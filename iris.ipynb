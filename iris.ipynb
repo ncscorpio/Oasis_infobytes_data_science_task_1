import numpy as np
import pandas as pd
import seaborn as sns
import matplotlib.pyplot as plt
%matplotlib inline

#loading data
print("Importing data...")
df  = pd.read_csv("/content/Iris.csv")
print("Sucessfully imported.")

from google.colab import drive
drive.mount('/content/drive')

df.head() #to check sucessful importation of dataset.
